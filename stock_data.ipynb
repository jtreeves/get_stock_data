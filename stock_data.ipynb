{
 "cells": [
  {
   "cell_type": "code",
   "execution_count": 44,
   "metadata": {},
   "outputs": [],
   "source": [
    "# Imports\n",
    "from selenium import webdriver\n",
    "from selenium.webdriver.common.keys import Keys\n",
    "from selenium.webdriver.common.action_chains import ActionChains\n",
    "from selenium.webdriver.chrome.options import Options\n",
    "from bs4 import BeautifulSoup\n",
    "import datetime, re, requests, io, time, random, string\n",
    "from credentials import email, password"
   ]
  },
  {
   "cell_type": "code",
   "execution_count": 45,
   "metadata": {},
   "outputs": [],
   "source": [
    "options = Options()\n",
    "options = webdriver.ChromeOptions()\n",
    "options.binary_location = \"/Applications/Chrome.app/Contents/MacOS/Google Chrome\"\n",
    "chrome_driver_binary = \"/Users/jtreeves/Desktop/SEI1019/unit_four/codealong/chromedriver\"\n",
    "driver = webdriver.Chrome(chrome_driver_binary, chrome_options=options)\n",
    "time.sleep(3)"
   ]
  },
  {
   "cell_type": "code",
   "execution_count": 46,
   "metadata": {},
   "outputs": [],
   "source": [
    "def log_in(email=email, password=password):\n",
    "    options = Options()\n",
    "    options = webdriver.ChromeOptions()\n",
    "    options.binary_location = \"/Applications/Chrome.app/Contents/MacOS/Google Chrome\"\n",
    "    chrome_driver_binary = \"/Users/jtreeves/Desktop/SEI1019/unit_four/codealong/chromedriver\"\n",
    "    driver = webdriver.Chrome(chrome_driver_binary, chrome_options=options)\n",
    "    time.sleep(3)\n",
    "    driver.get('https://wallmine.com')\n",
    "    time.sleep(2)\n",
    "    driver.find_element_by_xpath('/html/body/main/header/div/ul/li[1]/ul/li[3]/a').click() # click on sign in\n",
    "    time.sleep(1)\n",
    "    driver.find_element_by_xpath('//*[@id=\"new_user\"]/div[5]/div[1]/div[2]/a').click() # click on sign in with a password\n",
    "    if \"We're glad you're back!\" in driver.page_source:\n",
    "        print('On sign in page')\n",
    "        # Sign into website\n",
    "        driver.find_element_by_xpath('//*[@id=\"user_email\"]').send_keys(email)\n",
    "        driver.find_element_by_xpath('//*[@id=\"user_password\"]').send_keys(password)\n",
    "        time.sleep(0.1)\n",
    "        driver.find_element_by_xpath('//*[@id=\"new_user\"]/div[5]/div[2]/div[1]/button').click()\n",
    "        time.sleep(3)\n",
    "        # Confirm on webpage after signed in\n",
    "        if \"Stock market overview\" in driver.page_source:\n",
    "            print('Sign in successful')\n",
    "    else:\n",
    "        print('Start app over')"
   ]
  },
  {
   "cell_type": "code",
   "execution_count": 47,
   "metadata": {},
   "outputs": [
    {
     "output_type": "stream",
     "name": "stdout",
     "text": [
      "On sign in page\n",
      "Sign in successful\n"
     ]
    }
   ],
   "source": [
    "# Run the function\n",
    "log_in(email, password)"
   ]
  },
  {
   "cell_type": "code",
   "execution_count": 48,
   "metadata": {},
   "outputs": [],
   "source": [
    "stock_list = [\n",
    "  {'stock_ticker': 'AAPL', 'exchange': 'NASDAQ'},\n",
    "  {'stock_ticker': 'MSFT', 'exchange': 'NASDAQ'},\n",
    "  {'stock_ticker': 'AMZN', 'exchange': 'NASDAQ'},\n",
    "  {'stock_ticker': 'GOOG', 'exchange': 'NASDAQ'},\n",
    "  {'stock_ticker': 'GOOGL', 'exchange': 'NASDAQ'},\n",
    "  {'stock_ticker': 'FB', 'exchange': 'NASDAQ'},\n",
    "  {'stock_ticker': 'BABA', 'exchange': 'NYSE'},\n",
    "  {'stock_ticker': 'TSLA', 'exchange': 'NASDAQ'},\n",
    "  {'stock_ticker': 'BRK-A', 'exchange': 'NYSE'},\n",
    "  {'stock_ticker': 'BRK-B', 'exchange': 'NYSE'},\n",
    "  {'stock_ticker': 'TSM', 'exchange': 'NYSE'},\n",
    "  {'stock_ticker': 'V', 'exchange': 'NYSE'},\n",
    "  {'stock_ticker': 'WMT', 'exchange': 'NYSE'},\n",
    "  {'stock_ticker': 'JNJ', 'exchange': 'NYSE'},\n",
    "  {'stock_ticker': 'JPM', 'exchange': 'NYSE'},\n",
    "  {'stock_ticker': 'MA', 'exchange': 'NYSE'},\n",
    "  {'stock_ticker': 'PG', 'exchange': 'NYSE'},\n",
    "  {'stock_ticker': 'UNH', 'exchange': 'NYSE'},\n",
    "  {'stock_ticker': 'NVDA', 'exchange': 'NASDAQ'},\n",
    "  {'stock_ticker': 'DIS', 'exchange': 'NYSE'},\n",
    "  {'stock_ticker': 'HD', 'exchange': 'NYSE'},\n",
    "  {'stock_ticker': 'BAC', 'exchange': 'NYSE'},\n",
    "  {'stock_ticker': 'VZ', 'exchange': 'NYSE'},\n",
    "  {'stock_ticker': 'PYPL', 'exchange': 'NASDAQ'},\n",
    "  {'stock_ticker': 'CMCSA', 'exchange': 'NASDAQ'},\n",
    "  {'stock_ticker': 'INTC', 'exchange': 'NASDAQ'},\n",
    "  {'stock_ticker': 'KO', 'exchange': 'NYSE'},\n",
    "  {'stock_ticker': 'PFE', 'exchange': 'NYSE'},\n",
    "  {'stock_ticker': 'NFLX', 'exchange': 'NASDAQ'},\n",
    "  {'stock_ticker': 'T', 'exchange': 'NYSE'},\n",
    "  {'stock_ticker': 'ADBE', 'exchange': 'NASDAQ'},\n",
    "  {'stock_ticker': 'PDD', 'exchange': 'NASDAQ'},\n",
    "  {'stock_ticker': 'NKE', 'exchange': 'NYSE'},\n",
    "  {'stock_ticker': 'MPNGY', 'exchange': 'NYSEMKT'},\n",
    "  {'stock_ticker': 'MPNGY', 'exchange': 'NASDAQ'},\n",
    "  {'stock_ticker': 'TM', 'exchange': 'NYSE'},\n",
    "  {'stock_ticker': 'MRK', 'exchange': 'NYSE'},\n",
    "  {'stock_ticker': 'NVS', 'exchange': 'NYSE'},\n",
    "  {'stock_ticker': 'CRM', 'exchange': 'NYSE'},\n",
    "  {'stock_ticker': 'XOM', 'exchange': 'NYSE'},\n",
    "  {'stock_ticker': 'ABT', 'exchange': 'NYSE'},\n",
    "  {'stock_ticker': 'CSCO', 'exchange': 'NASDAQ'},\n",
    "  {'stock_ticker': 'ASML', 'exchange': 'NASDAQ'},\n",
    "  {'stock_ticker': 'ABBV', 'exchange': 'NYSE'},\n",
    "  {'stock_ticker': 'TMO', 'exchange': 'NYSE'},\n",
    "  {'stock_ticker': 'PEP', 'exchange': 'NASDAQ'},\n",
    "  {'stock_ticker': 'ORCL', 'exchange': 'NYSE'},\n",
    "  {'stock_ticker': 'CVX', 'exchange': 'NYSE'},\n",
    "  {'stock_ticker': 'PROSY', 'exchange': 'NYSEMKT'},\n",
    "  {'stock_ticker': 'QCOM', 'exchange': 'NASDAQ'},\n",
    "]"
   ]
  },
  {
   "cell_type": "code",
   "execution_count": 74,
   "metadata": {},
   "outputs": [],
   "source": [
    "def get_data(stocks):\n",
    "    for i in range(len(stock_list)):\n",
    "        each_stock = stock_list[i]\n",
    "        driver.get(f\"https://wallmine.com/{each_stock.get('exchange')}/{each_stock.get('stock_ticker')}\")\n",
    "        time.sleep(3)\n",
    "        company_name = driver.find_element_by_xpath('/html/body/main/section/div[2]/div/div[1]/h1/div[2]/a').text\n",
    "\n",
    "        current_price = driver.find_element_by_xpath('/html/body/main/section/div[3]/div/div/div/div/div[2]/div/div[1]/span[1]').text\n",
    "\n",
    "        percentage = driver.find_element_by_xpath('/html/body/main/section/div[3]/div/div/div/div/div[2]/div/div[2]/div')\n",
    "        price_increase = True\n",
    "        if driver.find_elements_by_class_name('badge.badge-success'):\n",
    "            price_up = driver.find_elements_by_class_name('badge.badge-success')[0].text\n",
    "            if price_up == percentage:\n",
    "                print('price up')\n",
    "        elif driver.find_elements_by_class_name('badge.badge-danger'):\n",
    "            price_down = driver.find_elements_by_class_name('badge.badge-danger')[0].text\n",
    "            if price_down == percentage:\n",
    "                price_movement = False\n",
    "                print('price down')\n",
    "\n",
    "        amount_change = float(driver.find_element_by_xpath('/html/body/main/section/div[3]/div/div/div/div/div[2]/div/div[1]/span[2]').text[1:])\n",
    "        \n",
    "        check_market_cap = driver.find_element_by_xpath('/html/body/main/section/div[4]/div[1]/div[2]/div[1]/div[1]/table/tbody/tr[1]/td/span').text\n",
    "        if check_market_cap[-1] == 'T':\n",
    "            market_cap = float(check_market_cap[1:-1]) * 1000000000000\n",
    "        elif check_market_cap[-1] == 'B':\n",
    "            market_cap = float(check_market_cap[1:-1]) * 1000000000\n",
    "        elif check_market_cap[-1] == 'M':\n",
    "            market_cap = float(check_market_cap[1:-1]) * 1000000\n",
    "        else:\n",
    "            market_cap = 'N/A'\n",
    "\n",
    "        check_enterprise_value = driver.find_element_by_xpath('/html/body/main/section/div[4]/div[1]/div[2]/div[1]/div[1]/table/tbody/tr[2]/td/span').text\n",
    "        if check_enterprise_value[-1] == 'T':\n",
    "            enterprise_value = float(check_enterprise_value[1:-1]) * 1000000000000\n",
    "        elif check_enterprise_value[-1] == 'B':\n",
    "            enterprise_value = float(check_enterprise_value[1:-1]) * 1000000000\n",
    "        elif check_enterprise_value[-1] == 'M':\n",
    "            enterprise_value = float(check_enterprise_value[1:-1]) * 1000000\n",
    "        else:\n",
    "            enterprise_value = 'N/A'\n",
    "\n",
    "        check_ebitda = driver.find_element_by_xpath('/html/body/main/section/div[4]/div[1]/div[2]/div[1]/div[2]/table/tbody/tr[2]/td/span').text\n",
    "        if check_ebitda[-1] == 'T':\n",
    "            ebitda = float(check_ebitda[1:-1]) * 1000000000000\n",
    "        elif check_ebitda[-1] == 'B':\n",
    "            ebitda = float(check_ebitda[1:-1]) * 1000000000\n",
    "        elif check_ebitda[-1] == 'M':\n",
    "            ebitda = float(check_ebitda[1:-1]) * 1000000\n",
    "        else:\n",
    "            ebitda = 'N/A'\n",
    "\n",
    "        check_income = driver.find_element_by_xpath('/html/body/main/section/div[4]/div[1]/div[2]/div[1]/div[2]/table/tbody/tr[3]/td/span').text\n",
    "        if check_income[-1] == 'T':\n",
    "            income = float(check_income[1:-1]) * 1000000000000\n",
    "        elif check_income[-1] == 'B':\n",
    "            income = float(check_income[1:-1]) * 1000000000\n",
    "        elif check_income[-1] == 'M':\n",
    "            income = float(check_income[1:-1]) * 1000000\n",
    "        else:\n",
    "            income = 'N/A'\n",
    "\n",
    "        volume_elements = driver.find_element_by_xpath('/html/body/main/section/div[4]/div[1]/div[2]/div[2]/div[1]/table/tbody/tr[1]/td').text.split(' / ')\n",
    "        volume_purchased = volume_elements[0]\n",
    "        volume_outstanding = volume_elements[1]\n",
    "\n",
    "        relative_volume = float(driver.find_element_by_xpath('/html/body/main/section/div[4]/div[1]/div[2]/div[2]/div[1]/table/tbody/tr[2]/td/span').text[:-2])\n",
    "\n",
    "        stock_object = {\n",
    "            'company_name': company_name,\n",
    "            'current_price': current_price,\n",
    "            'percentage': percentage,\n",
    "            'price_increase': price_increase,\n",
    "            'amount_change': amount_change,\n",
    "            'market_cap': market_cap,\n",
    "            'enterprise_value': enterprise_value,\n",
    "            'ebitda': ebitda,\n",
    "            'income': income,\n",
    "            'volume_purchased': volume_purchased,\n",
    "            'volume_outstanding': volume_outstanding,\n",
    "            'relative_volume': relative_volume\n",
    "        }"
   ]
  },
  {
   "cell_type": "code",
   "execution_count": 77,
   "metadata": {},
   "outputs": [
    {
     "output_type": "error",
     "ename": "UnboundLocalError",
     "evalue": "local variable 'market_cap' referenced before assignment",
     "traceback": [
      "\u001b[0;31m---------------------------------------------------------------------------\u001b[0m",
      "\u001b[0;31mUnboundLocalError\u001b[0m                         Traceback (most recent call last)",
      "\u001b[0;32m<ipython-input-77-e0f7048f817f>\u001b[0m in \u001b[0;36m<module>\u001b[0;34m\u001b[0m\n\u001b[0;32m----> 1\u001b[0;31m \u001b[0mget_data\u001b[0m\u001b[0;34m(\u001b[0m\u001b[0mstock_list\u001b[0m\u001b[0;34m)\u001b[0m\u001b[0;34m\u001b[0m\u001b[0;34m\u001b[0m\u001b[0m\n\u001b[0m",
      "\u001b[0;32m<ipython-input-74-ced778a818f3>\u001b[0m in \u001b[0;36mget_data\u001b[0;34m(stocks)\u001b[0m\n\u001b[1;32m     64\u001b[0m             \u001b[0;34m'price_increase'\u001b[0m\u001b[0;34m:\u001b[0m \u001b[0mprice_increase\u001b[0m\u001b[0;34m,\u001b[0m\u001b[0;34m\u001b[0m\u001b[0;34m\u001b[0m\u001b[0m\n\u001b[1;32m     65\u001b[0m             \u001b[0;34m'amount_change'\u001b[0m\u001b[0;34m:\u001b[0m \u001b[0mamount_change\u001b[0m\u001b[0;34m,\u001b[0m\u001b[0;34m\u001b[0m\u001b[0;34m\u001b[0m\u001b[0m\n\u001b[0;32m---> 66\u001b[0;31m             \u001b[0;34m'market_cap'\u001b[0m\u001b[0;34m:\u001b[0m \u001b[0mmarket_cap\u001b[0m\u001b[0;34m,\u001b[0m\u001b[0;34m\u001b[0m\u001b[0;34m\u001b[0m\u001b[0m\n\u001b[0m\u001b[1;32m     67\u001b[0m             \u001b[0;34m'enterprise_value'\u001b[0m\u001b[0;34m:\u001b[0m \u001b[0menterprise_value\u001b[0m\u001b[0;34m,\u001b[0m\u001b[0;34m\u001b[0m\u001b[0;34m\u001b[0m\u001b[0m\n\u001b[1;32m     68\u001b[0m             \u001b[0;34m'ebitda'\u001b[0m\u001b[0;34m:\u001b[0m \u001b[0mebitda\u001b[0m\u001b[0;34m,\u001b[0m\u001b[0;34m\u001b[0m\u001b[0;34m\u001b[0m\u001b[0m\n",
      "\u001b[0;31mUnboundLocalError\u001b[0m: local variable 'market_cap' referenced before assignment"
     ]
    }
   ],
   "source": [
    "get_data(stock_list)"
   ]
  },
  {
   "cell_type": "code",
   "execution_count": null,
   "metadata": {},
   "outputs": [],
   "source": []
  }
 ],
 "metadata": {
  "kernelspec": {
   "name": "python3",
   "display_name": "Python 3.9.1 64-bit",
   "metadata": {
    "interpreter": {
     "hash": "bbee7842ce8ba476870a006d5d5b68f11cea175afb0fea017b7f81beccf88892"
    }
   }
  },
  "language_info": {
   "codemirror_mode": {
    "name": "ipython",
    "version": 3
   },
   "file_extension": ".py",
   "mimetype": "text/x-python",
   "name": "python",
   "nbconvert_exporter": "python",
   "pygments_lexer": "ipython3",
   "version": "3.9.1-final"
  }
 },
 "nbformat": 4,
 "nbformat_minor": 4
}