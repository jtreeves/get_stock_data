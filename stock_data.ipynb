{
 "cells": [
  {
   "cell_type": "code",
   "execution_count": 22,
   "metadata": {},
   "outputs": [],
   "source": [
    "# Imports\n",
    "from selenium import webdriver\n",
    "from selenium.webdriver.common.keys import Keys\n",
    "from selenium.webdriver.common.action_chains import ActionChains\n",
    "from selenium.webdriver.chrome.options import Options\n",
    "from bs4 import BeautifulSoup\n",
    "import datetime, re, requests, io, time, random, string\n",
    "from credentials import email, password"
   ]
  },
  {
   "cell_type": "code",
   "execution_count": 33,
   "metadata": {},
   "outputs": [],
   "source": [
    "options = Options()\n",
    "options = webdriver.ChromeOptions()\n",
    "options.binary_location = \"/Applications/Chrome.app/Contents/MacOS/Google Chrome\"\n",
    "chrome_driver_binary = \"/Users/jtreeves/Desktop/SEI1019/unit_four/codealong/chromedriver\"\n",
    "driver = webdriver.Chrome(chrome_driver_binary, chrome_options=options)\n",
    "time.sleep(3)"
   ]
  },
  {
   "cell_type": "code",
   "execution_count": 34,
   "metadata": {},
   "outputs": [],
   "source": [
    "def sign_in(email=email, password=password):\n",
    "    driver.get('https://wallmine.com')\n",
    "    time.sleep(2)\n",
    "    driver.find_element_by_xpath('/html/body/main/header/div/ul/li[1]/ul/li[3]/a').click() # click on sign in\n",
    "    time.sleep(1)\n",
    "    driver.find_element_by_xpath('//*[@id=\"new_user\"]/div[5]/div[1]/div[2]/a').click() # click on sign in with a password\n",
    "    if \"We're glad you're back!\" in driver.page_source:\n",
    "        print('On sign in page')\n",
    "        # Sign into website\n",
    "        driver.find_element_by_xpath('//*[@id=\"user_email\"]').send_keys(email)\n",
    "        driver.find_element_by_xpath('//*[@id=\"user_password\"]').send_keys(password)\n",
    "        time.sleep(0.1)\n",
    "        driver.find_element_by_xpath('//*[@id=\"new_user\"]/div[5]/div[2]/div[1]/button').click()\n",
    "        time.sleep(3)\n",
    "        # Confirm on webpage after signed in\n",
    "        if \"Stock market overview\" in driver.page_source:\n",
    "            print('Sign in successful')\n",
    "    else:\n",
    "        print('Start app over')"
   ]
  },
  {
   "cell_type": "code",
   "execution_count": 35,
   "metadata": {},
   "outputs": [
    {
     "output_type": "stream",
     "name": "stdout",
     "text": [
      "On sign in page\n",
      "Sign in successful\n"
     ]
    }
   ],
   "source": [
    "# Run the function\n",
    "sign_in(email, password)"
   ]
  },
  {
   "cell_type": "code",
   "execution_count": 36,
   "metadata": {},
   "outputs": [],
   "source": [
    "stock_list = [\n",
    "  {'stock_ticker': 'AAPL', 'exchange': 'NASDAQ'},\n",
    "  {'stock_ticker': 'MSFT', 'exchange': 'NASDAQ'},\n",
    "  {'stock_ticker': 'AMZN', 'exchange': 'NASDAQ'},\n",
    "  {'stock_ticker': 'GOOG', 'exchange': 'NASDAQ'},\n",
    "  {'stock_ticker': 'GOOGL', 'exchange': 'NASDAQ'},\n",
    "  {'stock_ticker': 'FB', 'exchange': 'NASDAQ'},\n",
    "  {'stock_ticker': 'BABA', 'exchange': 'NYSE'},\n",
    "  {'stock_ticker': 'TSLA', 'exchange': 'NASDAQ'},\n",
    "  {'stock_ticker': 'BRK', 'exchange': 'NYSE'},\n",
    "  {'stock_ticker': 'BRK', 'exchange': 'NYSE'},\n",
    "  {'stock_ticker': 'TSM', 'exchange': 'NYSE'},\n",
    "  {'stock_ticker': 'V', 'exchange': 'NYSE'},\n",
    "  {'stock_ticker': 'WMT', 'exchange': 'NYSE'},\n",
    "  {'stock_ticker': 'JNJ', 'exchange': 'NYSE'},\n",
    "  {'stock_ticker': 'JPM', 'exchange': 'NYSE'},\n",
    "  {'stock_ticker': 'MA', 'exchange': 'NYSE'},\n",
    "  {'stock_ticker': 'PG', 'exchange': 'NYSE'},\n",
    "  {'stock_ticker': 'UNH', 'exchange': 'NYSE'},\n",
    "  {'stock_ticker': 'NVDA', 'exchange': 'NASDAQ'},\n",
    "  {'stock_ticker': 'DIS', 'exchange': 'NYSE'},\n",
    "  {'stock_ticker': 'HD', 'exchange': 'NYSE'},\n",
    "  {'stock_ticker': 'BAC', 'exchange': 'NYSE'},\n",
    "  {'stock_ticker': 'VZ', 'exchange': 'NYSE'},\n",
    "  {'stock_ticker': 'PYPL', 'exchange': 'NASDAQ'},\n",
    "  {'stock_ticker': 'CMCSA', 'exchange': 'NASDAQ'},\n",
    "  {'stock_ticker': 'INTC', 'exchange': 'NASDAQ'},\n",
    "  {'stock_ticker': 'KO', 'exchange': 'NYSE'},\n",
    "  {'stock_ticker': 'PFE', 'exchange': 'NYSE'},\n",
    "  {'stock_ticker': 'NFLX', 'exchange': 'NASDAQ'},\n",
    "  {'stock_ticker': 'T', 'exchange': 'NYSE'},\n",
    "  {'stock_ticker': 'ADBE', 'exchange': 'NASDAQ'},\n",
    "  {'stock_ticker': 'PDD', 'exchange': 'NASDAQ'},\n",
    "  {'stock_ticker': 'NKE', 'exchange': 'NYSE'},\n",
    "  {'stock_ticker': 'MPNGY', 'exchange': 'NYSEMKT'},\n",
    "  {'stock_ticker': 'MPNGY', 'exchange': 'NASDAQ'},\n",
    "  {'stock_ticker': 'TM', 'exchange': 'NYSE'},\n",
    "  {'stock_ticker': 'MRK', 'exchange': 'NYSE'},\n",
    "  {'stock_ticker': 'NVS', 'exchange': 'NYSE'},\n",
    "  {'stock_ticker': 'CRM', 'exchange': 'NYSE'},\n",
    "  {'stock_ticker': 'XOM', 'exchange': 'NYSE'},\n",
    "  {'stock_ticker': 'ABT', 'exchange': 'NYSE'},\n",
    "  {'stock_ticker': 'CSCO', 'exchange': 'NASDAQ'},\n",
    "  {'stock_ticker': 'ASML', 'exchange': 'NASDAQ'},\n",
    "  {'stock_ticker': 'ABBV', 'exchange': 'NYSE'},\n",
    "  {'stock_ticker': 'TMO', 'exchange': 'NYSE'},\n",
    "  {'stock_ticker': 'PEP', 'exchange': 'NASDAQ'},\n",
    "  {'stock_ticker': 'ORCL', 'exchange': 'NYSE'},\n",
    "  {'stock_ticker': 'CVX', 'exchange': 'NYSE'},\n",
    "  {'stock_ticker': 'PROSY', 'exchange': 'NYSEMKT'},\n",
    "  {'stock_ticker': 'QCOM', 'exchange': 'NASDAQ'},\n",
    "]"
   ]
  },
  {
   "cell_type": "code",
   "execution_count": 41,
   "metadata": {},
   "outputs": [
    {
     "output_type": "stream",
     "name": "stdout",
     "text": [
      "0: AAPL, exchange: NASDAQ\n",
      "1: MSFT, exchange: NASDAQ\n",
      "2: AMZN, exchange: NASDAQ\n",
      "3: GOOG, exchange: NASDAQ\n",
      "4: GOOGL, exchange: NASDAQ\n",
      "5: FB, exchange: NASDAQ\n",
      "6: BABA, exchange: NYSE\n",
      "7: TSLA, exchange: NASDAQ\n",
      "8: BRK, exchange: NYSE\n",
      "9: BRK, exchange: NYSE\n",
      "10: TSM, exchange: NYSE\n",
      "11: V, exchange: NYSE\n",
      "12: WMT, exchange: NYSE\n",
      "13: JNJ, exchange: NYSE\n",
      "14: JPM, exchange: NYSE\n",
      "15: MA, exchange: NYSE\n",
      "16: PG, exchange: NYSE\n",
      "17: UNH, exchange: NYSE\n",
      "18: NVDA, exchange: NASDAQ\n",
      "19: DIS, exchange: NYSE\n",
      "20: HD, exchange: NYSE\n",
      "21: BAC, exchange: NYSE\n",
      "22: VZ, exchange: NYSE\n",
      "23: PYPL, exchange: NASDAQ\n",
      "24: CMCSA, exchange: NASDAQ\n",
      "25: INTC, exchange: NASDAQ\n",
      "26: KO, exchange: NYSE\n",
      "27: PFE, exchange: NYSE\n",
      "28: NFLX, exchange: NASDAQ\n",
      "29: T, exchange: NYSE\n",
      "30: ADBE, exchange: NASDAQ\n",
      "31: PDD, exchange: NASDAQ\n",
      "32: NKE, exchange: NYSE\n",
      "33: MPNGY, exchange: NYSEMKT\n",
      "34: MPNGY, exchange: NASDAQ\n",
      "35: TM, exchange: NYSE\n",
      "36: MRK, exchange: NYSE\n",
      "37: NVS, exchange: NYSE\n",
      "38: CRM, exchange: NYSE\n",
      "39: XOM, exchange: NYSE\n",
      "40: ABT, exchange: NYSE\n",
      "41: CSCO, exchange: NASDAQ\n",
      "42: ASML, exchange: NASDAQ\n",
      "43: ABBV, exchange: NYSE\n",
      "44: TMO, exchange: NYSE\n",
      "45: PEP, exchange: NASDAQ\n",
      "46: ORCL, exchange: NYSE\n",
      "47: CVX, exchange: NYSE\n",
      "48: PROSY, exchange: NYSEMKT\n",
      "49: QCOM, exchange: NASDAQ\n",
      "['AAPL', 'MSFT', 'AMZN', 'GOOG', 'GOOGL', 'FB', 'BABA', 'TSLA', 'BRK', 'BRK', 'TSM', 'V', 'WMT', 'JNJ', 'JPM', 'MA', 'PG', 'UNH', 'NVDA', 'DIS', 'HD', 'BAC', 'VZ', 'PYPL', 'CMCSA', 'INTC', 'KO', 'PFE', 'NFLX', 'T', 'ADBE', 'PDD', 'NKE', 'MPNGY', 'MPNGY', 'TM', 'MRK', 'NVS', 'CRM', 'XOM', 'ABT', 'CSCO', 'ASML', 'ABBV', 'TMO', 'PEP', 'ORCL', 'CVX', 'PROSY', 'QCOM']\n"
     ]
    }
   ],
   "source": [
    "broken_links = []\n",
    "for i in range(len(stock_list)):\n",
    "    each_stock = stock_list[i]\n",
    "    print(f\"{i}: {each_stock.get('stock_ticker')}, exchange: {each_stock.get('exchange')}\")\n",
    "    driver.get(f\"https://wallmine.com/{each_stock.get('exchange')}/{each_stock.get('stock_ticker')}\")\n",
    "    if '404' in driver.page_source:\n",
    "        broken_links.append(each_stock.get('stock_ticker'))\n",
    "    time.sleep(3)\n",
    "print(broken_links)"
   ]
  },
  {
   "cell_type": "code",
   "execution_count": null,
   "metadata": {},
   "outputs": [],
   "source": [
    "company_name = driver.find_element_by_xpath('/html/body/main/section/div[2]/div/div[1]/h1/div[2]/a').text\n",
    "\n",
    "current_price = driver.find_element_by_xpath('/html/body/main/section/div[3]/div/div/div/div/div[2]/div/div[1]/span[1]').text\n",
    "\n",
    "percentage = driver.find_element_by_xpath('/html/body/main/section/div[3]/div/div/div/div/div[2]/div/div[2]/div')\n",
    "if driver.find_elements_by_class_name('badge.badge-success'):\n",
    "    price_up = driver.find_elements_by_class_name('badge.badge-success')[0].text\n",
    "    if price_up == percentage:\n",
    "        print('price up')\n",
    "elif driver.find_elements_by_class_name('badge.badge-danger'):\n",
    "    price_down = driver.find_elements_by_class_name('badge.badge-danger')[0].text\n",
    "    if price_down == percentage:\n",
    "        print('price down')\n",
    "\n",
    "amount_change\n",
    "market_cap\n",
    "enterprise_value\n",
    "ebitda\n",
    "income\n",
    "volume\n",
    "relative_volume"
   ]
  }
 ],
 "metadata": {
  "kernelspec": {
   "name": "python3",
   "display_name": "Python 3.9.1 64-bit",
   "metadata": {
    "interpreter": {
     "hash": "bbee7842ce8ba476870a006d5d5b68f11cea175afb0fea017b7f81beccf88892"
    }
   }
  },
  "language_info": {
   "codemirror_mode": {
    "name": "ipython",
    "version": 3
   },
   "file_extension": ".py",
   "mimetype": "text/x-python",
   "name": "python",
   "nbconvert_exporter": "python",
   "pygments_lexer": "ipython3",
   "version": "3.9.1-final"
  }
 },
 "nbformat": 4,
 "nbformat_minor": 4
}